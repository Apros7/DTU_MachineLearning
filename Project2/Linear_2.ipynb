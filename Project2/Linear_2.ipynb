{
 "cells": [
  {
   "cell_type": "code",
   "execution_count": 1,
   "metadata": {},
   "outputs": [],
   "source": [
    "import pandas as pd\n",
    "import matplotlib.pyplot as plt\n",
    "import numpy as np\n",
    "import sklearn.linear_model as lm\n",
    "from sklearn.model_selection import train_test_split\n",
    "from sklearn import model_selection\n",
    "%matplotlib inline"
   ]
  },
  {
   "cell_type": "code",
   "execution_count": 19,
   "metadata": {},
   "outputs": [],
   "source": [
    "\n",
    "data = pd.read_csv(\"StandardizedDataFrameWithNansFilled.csv\", index_col=0)\n",
    "data[\"Status\"] = [1 if stat == \"Developed\" else 0 for stat in data[\"Status\"]]\n",
    "data.head()\n",
    "\n",
    "y = data['Life expectancy '].values\n",
    "y=y.T\n",
    "X_drop = data.drop(columns = ['Country','Year','Life expectancy '])\n",
    "\n",
    "\n",
    "# Add offset attribute\n",
    "attributeNames = X_drop.columns\n",
    "X_drop = np.concatenate((np.ones((X_drop.shape[0],1)),X_drop),1)\n",
    "attributeNames = [u'Offset']+attributeNames\n",
    "N, M = X_drop.shape\n",
    "X = X_drop\n",
    "\n",
    "\n",
    "## Crossvalidation\n",
    "# Create crossvalidation partition for evaluation\n",
    "K = 10\n",
    "CV = model_selection.KFold(K, shuffle=True)\n",
    "\n",
    "# Values of lambda\n",
    "lambdas = np.power(10.,range(-5,9))\n",
    "# Initialize variables\n",
    "\n",
    "#T = len(lambdas)\n",
    "Error_train = np.empty((K,1))\n",
    "Error_test = np.empty((K,1))\n",
    "Error_train_rlr = np.empty((K,1))\n",
    "Error_test_rlr = np.empty((K,1))\n",
    "Error_train_nofeatures = np.empty((K,1))\n",
    "Error_test_nofeatures = np.empty((K,1))\n",
    "w_rlr = np.empty((M,K))\n",
    "mu = np.empty((K, M-1))\n",
    "sigma = np.empty((K, M-1))\n",
    "w_noreg = np.empty((M,K))\n",
    "\n",
    "k=0\n",
    "for train_index, test_index in CV.split(X,y):\n",
    "    \n",
    "    # extract training and test set for current CV fold\n",
    "    X_train = X[train_index]\n",
    "    y_train = y[train_index]\n",
    "    X_test = X[test_index]\n",
    "    y_test = y[test_index]\n",
    "    internal_cross_validation = 10\n",
    "\n",
    "    Xty = X_train.T @ y_train\n",
    "    XtX = X_train.T @ X_train\n",
    "\n",
    "    # Compute mean squared error without using the input data at all\n",
    "    Error_train_nofeatures[k] = np.square(y_train-y_train.mean()).sum(axis=0)/y_train.shape[0]\n",
    "    Error_test_nofeatures[k] = np.square(y_test-y_test.mean()).sum(axis=0)/y_test.shape[0]\n",
    "\n",
    "    #opt_val_err, opt_lambda, mean_w_vs_lambda, train_err_vs_lambda, test_err_vs_lambda = rlr_validate(X_train, y_train, lambdas, internal_cross_validation)\n",
    "\n",
    "    k=0\n",
    "    lol =[]\n",
    "    lambs = []\n",
    "    for lamb in lambdas:\n",
    "\n",
    "        # Estimate weights for the value of lambda, on entire training set\n",
    "        lambdaI = lamb * np.eye(M)\n",
    "        lambdaI[0,0] = 0 # Do no regularize the bias term\n",
    "        w_rlr[:,k] = np.linalg.solve(XtX+lambdaI,Xty).squeeze()\n",
    "        # Compute mean squared error with regularization with lambda\n",
    "        lol.append(np.square(y_train-X_train @ w_rlr[:,k]).sum(axis=0)/y_train.shape[0])\n",
    "        Error_test_rlr[k] = np.square(y_test-X_test @ w_rlr[:,k]).sum(axis=0)/y_test.shape[0]\n",
    "        lambs.append(lamb)\n",
    "\n",
    "        # Display the results for the last cross-validation fold\n",
    "        k =+1\n",
    "    "
   ]
  },
  {
   "cell_type": "code",
   "execution_count": 21,
   "metadata": {},
   "outputs": [
    {
     "name": "stdout",
     "output_type": "stream",
     "text": [
      "[1.e-05 1.e-04 1.e-03 1.e-02 1.e-01 1.e+00 1.e+01 1.e+02 1.e+03 1.e+04\n",
      " 1.e+05 1.e+06 1.e+07 1.e+08]\n",
      "[0.18049956531639913, 0.1804995653179755, 0.18049956547557727, 0.1804995811988003, 0.1805011172671959, 0.18062442007605595, 0.18353028159799772, 0.18901971143789556, 0.20143183799533876, 0.3949865599069311, 0.8429515488658708, 0.9786013606011248, 0.9947614533405652, 0.9964080416735585]\n"
     ]
    },
    {
     "ename": "ValueError",
     "evalue": "s must be a scalar, or float array-like with the same size as x and y",
     "output_type": "error",
     "traceback": [
      "\u001b[0;31m---------------------------------------------------------------------------\u001b[0m",
      "\u001b[0;31mValueError\u001b[0m                                Traceback (most recent call last)",
      "Cell \u001b[0;32mIn[21], line 4\u001b[0m\n\u001b[1;32m      2\u001b[0m \u001b[39mprint\u001b[39m(lol)\n\u001b[1;32m      3\u001b[0m plt\u001b[39m.\u001b[39mfigure(figsize\u001b[39m=\u001b[39m(\u001b[39m12\u001b[39m,\u001b[39m8\u001b[39m))\n\u001b[0;32m----> 4\u001b[0m plt\u001b[39m.\u001b[39;49mscatter(lambs,lol,\u001b[39m'\u001b[39;49m\u001b[39m.-\u001b[39;49m\u001b[39m'\u001b[39;49m) \u001b[39m# Don't plot the bias term\u001b[39;00m\n\u001b[1;32m      5\u001b[0m plt\u001b[39m.\u001b[39mxlabel(\u001b[39m'\u001b[39m\u001b[39mRegularization factor\u001b[39m\u001b[39m'\u001b[39m)\n\u001b[1;32m      6\u001b[0m plt\u001b[39m.\u001b[39mylabel(\u001b[39m'\u001b[39m\u001b[39mMean Coefficient Values\u001b[39m\u001b[39m'\u001b[39m)\n",
      "File \u001b[0;32m~/anaconda3/envs/02450/lib/python3.11/site-packages/matplotlib/pyplot.py:2862\u001b[0m, in \u001b[0;36mscatter\u001b[0;34m(x, y, s, c, marker, cmap, norm, vmin, vmax, alpha, linewidths, edgecolors, plotnonfinite, data, **kwargs)\u001b[0m\n\u001b[1;32m   2857\u001b[0m \u001b[39m@_copy_docstring_and_deprecators\u001b[39m(Axes\u001b[39m.\u001b[39mscatter)\n\u001b[1;32m   2858\u001b[0m \u001b[39mdef\u001b[39;00m \u001b[39mscatter\u001b[39m(\n\u001b[1;32m   2859\u001b[0m         x, y, s\u001b[39m=\u001b[39m\u001b[39mNone\u001b[39;00m, c\u001b[39m=\u001b[39m\u001b[39mNone\u001b[39;00m, marker\u001b[39m=\u001b[39m\u001b[39mNone\u001b[39;00m, cmap\u001b[39m=\u001b[39m\u001b[39mNone\u001b[39;00m, norm\u001b[39m=\u001b[39m\u001b[39mNone\u001b[39;00m,\n\u001b[1;32m   2860\u001b[0m         vmin\u001b[39m=\u001b[39m\u001b[39mNone\u001b[39;00m, vmax\u001b[39m=\u001b[39m\u001b[39mNone\u001b[39;00m, alpha\u001b[39m=\u001b[39m\u001b[39mNone\u001b[39;00m, linewidths\u001b[39m=\u001b[39m\u001b[39mNone\u001b[39;00m, \u001b[39m*\u001b[39m,\n\u001b[1;32m   2861\u001b[0m         edgecolors\u001b[39m=\u001b[39m\u001b[39mNone\u001b[39;00m, plotnonfinite\u001b[39m=\u001b[39m\u001b[39mFalse\u001b[39;00m, data\u001b[39m=\u001b[39m\u001b[39mNone\u001b[39;00m, \u001b[39m*\u001b[39m\u001b[39m*\u001b[39mkwargs):\n\u001b[0;32m-> 2862\u001b[0m     __ret \u001b[39m=\u001b[39m gca()\u001b[39m.\u001b[39;49mscatter(\n\u001b[1;32m   2863\u001b[0m         x, y, s\u001b[39m=\u001b[39;49ms, c\u001b[39m=\u001b[39;49mc, marker\u001b[39m=\u001b[39;49mmarker, cmap\u001b[39m=\u001b[39;49mcmap, norm\u001b[39m=\u001b[39;49mnorm,\n\u001b[1;32m   2864\u001b[0m         vmin\u001b[39m=\u001b[39;49mvmin, vmax\u001b[39m=\u001b[39;49mvmax, alpha\u001b[39m=\u001b[39;49malpha, linewidths\u001b[39m=\u001b[39;49mlinewidths,\n\u001b[1;32m   2865\u001b[0m         edgecolors\u001b[39m=\u001b[39;49medgecolors, plotnonfinite\u001b[39m=\u001b[39;49mplotnonfinite,\n\u001b[1;32m   2866\u001b[0m         \u001b[39m*\u001b[39;49m\u001b[39m*\u001b[39;49m({\u001b[39m\"\u001b[39;49m\u001b[39mdata\u001b[39;49m\u001b[39m\"\u001b[39;49m: data} \u001b[39mif\u001b[39;49;00m data \u001b[39mis\u001b[39;49;00m \u001b[39mnot\u001b[39;49;00m \u001b[39mNone\u001b[39;49;00m \u001b[39melse\u001b[39;49;00m {}), \u001b[39m*\u001b[39;49m\u001b[39m*\u001b[39;49mkwargs)\n\u001b[1;32m   2867\u001b[0m     sci(__ret)\n\u001b[1;32m   2868\u001b[0m     \u001b[39mreturn\u001b[39;00m __ret\n",
      "File \u001b[0;32m~/anaconda3/envs/02450/lib/python3.11/site-packages/matplotlib/__init__.py:1446\u001b[0m, in \u001b[0;36m_preprocess_data.<locals>.inner\u001b[0;34m(ax, data, *args, **kwargs)\u001b[0m\n\u001b[1;32m   1443\u001b[0m \u001b[39m@functools\u001b[39m\u001b[39m.\u001b[39mwraps(func)\n\u001b[1;32m   1444\u001b[0m \u001b[39mdef\u001b[39;00m \u001b[39minner\u001b[39m(ax, \u001b[39m*\u001b[39margs, data\u001b[39m=\u001b[39m\u001b[39mNone\u001b[39;00m, \u001b[39m*\u001b[39m\u001b[39m*\u001b[39mkwargs):\n\u001b[1;32m   1445\u001b[0m     \u001b[39mif\u001b[39;00m data \u001b[39mis\u001b[39;00m \u001b[39mNone\u001b[39;00m:\n\u001b[0;32m-> 1446\u001b[0m         \u001b[39mreturn\u001b[39;00m func(ax, \u001b[39m*\u001b[39;49m\u001b[39mmap\u001b[39;49m(sanitize_sequence, args), \u001b[39m*\u001b[39;49m\u001b[39m*\u001b[39;49mkwargs)\n\u001b[1;32m   1448\u001b[0m     bound \u001b[39m=\u001b[39m new_sig\u001b[39m.\u001b[39mbind(ax, \u001b[39m*\u001b[39margs, \u001b[39m*\u001b[39m\u001b[39m*\u001b[39mkwargs)\n\u001b[1;32m   1449\u001b[0m     auto_label \u001b[39m=\u001b[39m (bound\u001b[39m.\u001b[39marguments\u001b[39m.\u001b[39mget(label_namer)\n\u001b[1;32m   1450\u001b[0m                   \u001b[39mor\u001b[39;00m bound\u001b[39m.\u001b[39mkwargs\u001b[39m.\u001b[39mget(label_namer))\n",
      "File \u001b[0;32m~/anaconda3/envs/02450/lib/python3.11/site-packages/matplotlib/axes/_axes.py:4587\u001b[0m, in \u001b[0;36mAxes.scatter\u001b[0;34m(self, x, y, s, c, marker, cmap, norm, vmin, vmax, alpha, linewidths, edgecolors, plotnonfinite, **kwargs)\u001b[0m\n\u001b[1;32m   4583\u001b[0m s \u001b[39m=\u001b[39m np\u001b[39m.\u001b[39mma\u001b[39m.\u001b[39mravel(s)\n\u001b[1;32m   4584\u001b[0m \u001b[39mif\u001b[39;00m (\u001b[39mlen\u001b[39m(s) \u001b[39mnot\u001b[39;00m \u001b[39min\u001b[39;00m (\u001b[39m1\u001b[39m, x\u001b[39m.\u001b[39msize) \u001b[39mor\u001b[39;00m\n\u001b[1;32m   4585\u001b[0m         (\u001b[39mnot\u001b[39;00m np\u001b[39m.\u001b[39missubdtype(s\u001b[39m.\u001b[39mdtype, np\u001b[39m.\u001b[39mfloating) \u001b[39mand\u001b[39;00m\n\u001b[1;32m   4586\u001b[0m          \u001b[39mnot\u001b[39;00m np\u001b[39m.\u001b[39missubdtype(s\u001b[39m.\u001b[39mdtype, np\u001b[39m.\u001b[39minteger))):\n\u001b[0;32m-> 4587\u001b[0m     \u001b[39mraise\u001b[39;00m \u001b[39mValueError\u001b[39;00m(\n\u001b[1;32m   4588\u001b[0m         \u001b[39m\"\u001b[39m\u001b[39ms must be a scalar, \u001b[39m\u001b[39m\"\u001b[39m\n\u001b[1;32m   4589\u001b[0m         \u001b[39m\"\u001b[39m\u001b[39mor float array-like with the same size as x and y\u001b[39m\u001b[39m\"\u001b[39m)\n\u001b[1;32m   4591\u001b[0m \u001b[39m# get the original edgecolor the user passed before we normalize\u001b[39;00m\n\u001b[1;32m   4592\u001b[0m orig_edgecolor \u001b[39m=\u001b[39m edgecolors\n",
      "\u001b[0;31mValueError\u001b[0m: s must be a scalar, or float array-like with the same size as x and y"
     ]
    },
    {
     "data": {
      "image/png": "[encoded data removed]",
      "text/plain": [
       "<Figure size 1200x800 with 1 Axes>"
      ]
     },
     "metadata": {},
     "output_type": "display_data"
    }
   ],
   "source": [
    "    print(lambdas)\n",
    "    print(lol)\n",
    "    plt.figure(figsize=(12,8))\n",
    "    plt.scatter(lambs,lol,'.-') # Don't plot the bias term\n",
    "    plt.xlabel('Regularization factor')\n",
    "    plt.ylabel('Mean Coefficient Values')\n",
    "    plt.grid()\n",
    "\n",
    "    # You can choose to display the legend, but it's omitted for a cleaner \n",
    "    # plot, since there are many attributes\n",
    "    #legend(attributeNames[1:], loc='best')\n",
    "\n",
    "        \n",
    "        # To inspect the used indices, use these print statements\n",
    "        #print('Cross validation fold {0}/{1}:'.format(k+1,K))\n",
    "        #print('Train indices: {0}'.format(train_index))\n",
    "        #print('Test indices: {0}\\n'.format(test_index))"
   ]
  },
  {
   "cell_type": "code",
   "execution_count": null,
   "metadata": {},
   "outputs": [
    {
     "name": "stdout",
     "output_type": "stream",
     "text": [
      "[1.e-05 1.e-04 1.e-03 1.e-02 1.e-01 1.e+00 1.e+01 1.e+02 1.e+03 1.e+04\n",
      " 1.e+05 1.e+06 1.e+07 1.e+08]\n"
     ]
    }
   ],
   "source": [
    "   plt.figure(k, figsize=(12,8))\n",
    "    plt.subplot(1,2,1)\n",
    "    plt.(lambdas,mean_w_vs_lambda.T[:,1:],'.-') # Don't plot the bias term\n",
    "    plt.xlabel('Regularization factor')\n",
    "    plt.ylabel('Mean Coefficient Values')\n",
    "    plt.grid()\n",
    "    # You can choose to display the legend, but it's omitted for a cleaner \n",
    "    # plot, since there are many attributes\n",
    "    #legend(attributeNames[1:], loc='best')\n",
    "    \n",
    "    plt.subplot(1,2,2)\n",
    "    plt.title('Lambda: 1e{0}'.format(np.log10(lamb)))\n",
    "    plt.loglog(lambdas,train_err_vs_lambda.T,'b.-',lambdas,test_err_vs_lambda.T,'r.-')\n",
    "    plt.xlabel('Regularization factor')\n",
    "    plt.ylabel('Squared error (crossvalidation)')\n",
    "    plt.legend(['Train error','Validation error'])\n",
    "    plt.grid()\n",
    "        \n",
    "        # To inspect the used indices, use these print statements\n",
    "        #print('Cross validation fold {0}/{1}:'.format(k+1,K))\n",
    "        #print('Train indices: {0}'.format(train_index))\n",
    "        #print('Test indices: {0}\\n'.format(test_index))"
   ]
  }
 ],
 "metadata": {
  "kernelspec": {
   "display_name": "02450",
   "language": "python",
   "name": "python3"
  },
  "language_info": {
   "codemirror_mode": {
    "name": "ipython",
    "version": 3
   },
   "file_extension": ".py",
   "mimetype": "text/x-python",
   "name": "python",
   "nbconvert_exporter": "python",
   "pygments_lexer": "ipython3",
   "version": "3.11.5"
  },
  "orig_nbformat": 4
 },
 "nbformat": 4,
 "nbformat_minor": 2
}
