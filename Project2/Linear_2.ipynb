{
 "cells": [
  {
   "cell_type": "code",
   "execution_count": 1,
   "metadata": {},
   "outputs": [],
   "source": [
    "import pandas as pd\n",
    "import matplotlib.pyplot as plt\n",
    "import numpy as np\n",
    "import sklearn.linear_model as lm\n",
    "from sklearn.model_selection import train_test_split\n",
    "from sklearn import model_selection\n",
    "%matplotlib inline"
   ]
  },
  {
   "cell_type": "code",
   "execution_count": 145,
   "metadata": {},
   "outputs": [
    {
     "data": {
      "image/png": "[encoded data removed]",
      "text/plain": [
       "<Figure size 800x600 with 1 Axes>"
      ]
     },
     "metadata": {},
     "output_type": "display_data"
    }
   ],
   "source": [
    "\n",
    "data = pd.read_csv(\"StandardizedDataFrameWithNansFilled.csv\", index_col=0)\n",
    "data[\"Status\"] = [1 if stat == \"Developed\" else 0 for stat in data[\"Status\"]]\n",
    "data.head()\n",
    "\n",
    "y = data['Life expectancy '].values\n",
    "y=y.T\n",
    "X_drop = data.drop(columns = ['Country','Year','Life expectancy '])\n",
    "\n",
    "# Add offset attribute\n",
    "attributeNames = X_drop.columns\n",
    "X_drop = np.concatenate((np.ones((X_drop.shape[0],1)),X_drop),1)\n",
    "attributeNames = [u'Offset']+attributeNames\n",
    "N, M = X_drop.shape\n",
    "X = X_drop\n",
    "\n",
    "# Values of lambda\n",
    "lambdas = np.power(100.,range(-4,8))\n",
    "\n",
    "# Initialize variables\n",
    "\n",
    "\n",
    "Test =[]\n",
    "Train =[]\n",
    "for lamb in lambdas:\n",
    "    ## Crossvalidation\n",
    "    # Create crossvalidation partition for evaluation\n",
    "    K = 10\n",
    "    CV = model_selection.KFold(K, shuffle=True)\n",
    "\n",
    "    Error_train_rlr = np.zeros((K,1))\n",
    "    Error_test_rlr = np.zeros((K,1))\n",
    "\n",
    "    w_rlr = np.empty((M,K))\n",
    "\n",
    "    k=0\n",
    "    for train_index, test_index in CV.split(X,y):\n",
    "        \n",
    "        # extract training and test set for current CV fold\n",
    "        X_train = X[train_index]\n",
    "        y_train = y[train_index]\n",
    "        X_test = X[test_index]\n",
    "        y_test = y[test_index]\n",
    "\n",
    "        Xty = X_train.T @ y_train\n",
    "        XtX = X_train.T @ X_train\n",
    "\n",
    "        # Estimate weights for the value of lambda, on entire training set\n",
    "        lambdaI = lamb * np.eye(M)\n",
    "        lambdaI[0,0] = 0 # Do no regularize the bias term\n",
    "        w_rlr[:,k] = np.linalg.solve(XtX+lambdaI,Xty).squeeze()\n",
    "        # Compute mean squared error with regularization with lambda\n",
    "        Error_train_rlr[k] = np.square(y_train-X_train @ w_rlr[:,k]).sum(axis=0)/y_train.shape[0]\n",
    "        Error_test_rlr[k] = np.square(y_test-X_test @ w_rlr[:,k]).sum(axis=0)/y_test.shape[0]\n",
    "        k +=1\n",
    "\n",
    "        \n",
    "    Test.append(np.mean(Error_test_rlr))\n",
    "    Train.append(np.mean(Error_train_rlr))\n",
    "\n",
    "plt.figure(figsize=(8, 6))\n",
    "plt.subplot(2,1,1)        \n",
    "plt.semilogx(lambdas,Train) # Don't plot the bias term\\\n",
    "plt.semilogx(lambdas,Test) # Don't plot the bias term\n",
    "plt.xlabel('Regularization factor')\n",
    "plt.ylabel('Generalised Error')\n",
    "plt.grid()\n",
    "\n",
    "\n"
   ]
  },
  {
   "cell_type": "code",
   "execution_count": 51,
   "metadata": {},
   "outputs": [
    {
     "name": "stdout",
     "output_type": "stream",
     "text": [
      "[<built-in method mean of numpy.ndarray object at 0x16048f9f0>]\n"
     ]
    }
   ],
   "source": [
    "print(Train)"
   ]
  },
  {
   "cell_type": "code",
   "execution_count": null,
   "metadata": {},
   "outputs": [
    {
     "name": "stdout",
     "output_type": "stream",
     "text": [
      "[1.e-05 1.e-04 1.e-03 1.e-02 1.e-01 1.e+00 1.e+01 1.e+02 1.e+03 1.e+04\n",
      " 1.e+05 1.e+06 1.e+07 1.e+08]\n"
     ]
    }
   ],
   "source": [
    "plt.semilogx(lambdas,Train) # Don't plot the bias term\\\n",
    "plt.semilogx(lambdas,Test) # Don't plot the bias term\n",
    "plt.xlabel('Regularization factor')\n",
    "plt.ylabel('Mean Coefficient Values')\n",
    "plt.grid()"
   ]
  }
 ],
 "metadata": {
  "kernelspec": {
   "display_name": "02450",
   "language": "python",
   "name": "python3"
  },
  "language_info": {
   "codemirror_mode": {
    "name": "ipython",
    "version": 3
   },
   "file_extension": ".py",
   "mimetype": "text/x-python",
   "name": "python",
   "nbconvert_exporter": "python",
   "pygments_lexer": "ipython3",
   "version": "3.11.5"
  },
  "orig_nbformat": 4
 },
 "nbformat": 4,
 "nbformat_minor": 2
}
