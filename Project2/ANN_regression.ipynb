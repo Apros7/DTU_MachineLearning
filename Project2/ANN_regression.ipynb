{
 "cells": [
  {
   "cell_type": "code",
   "execution_count": 30,
   "metadata": {},
   "outputs": [],
   "source": [
    "import torch\n",
    "import torch.nn as nn\n",
    "from sklearn.model_selection import train_test_split\n",
    "import pandas as pd\n",
    "import torch.optim as optim\n",
    "from torch.utils.data import DataLoader, TensorDataset\n",
    "from tqdm import tqdm"
   ]
  },
  {
   "cell_type": "markdown",
   "metadata": {},
   "source": [
    "Getting dataset"
   ]
  },
  {
   "cell_type": "code",
   "execution_count": 13,
   "metadata": {},
   "outputs": [
    {
     "data": {
      "text/html": [
       "<div>\n",
       "<style scoped>\n",
       "    .dataframe tbody tr th:only-of-type {\n",
       "        vertical-align: middle;\n",
       "    }\n",
       "\n",
       "    .dataframe tbody tr th {\n",
       "        vertical-align: top;\n",
       "    }\n",
       "\n",
       "    .dataframe thead th {\n",
       "        text-align: right;\n",
       "    }\n",
       "</style>\n",
       "<table border=\"1\" class=\"dataframe\">\n",
       "  <thead>\n",
       "    <tr style=\"text-align: right;\">\n",
       "      <th></th>\n",
       "      <th>Unnamed: 0</th>\n",
       "      <th>Country</th>\n",
       "      <th>Year</th>\n",
       "      <th>Status</th>\n",
       "      <th>Life expectancy</th>\n",
       "      <th>Adult Mortality</th>\n",
       "      <th>infant deaths</th>\n",
       "      <th>Alcohol</th>\n",
       "      <th>percentage expenditure</th>\n",
       "      <th>Measles</th>\n",
       "      <th>BMI</th>\n",
       "      <th>under-five deaths</th>\n",
       "      <th>Polio</th>\n",
       "      <th>Total expenditure</th>\n",
       "      <th>Diphtheria</th>\n",
       "      <th>HIV/AIDS</th>\n",
       "      <th>thinness  1-19 years</th>\n",
       "      <th>thinness 5-9 years</th>\n",
       "      <th>Income composition of resources</th>\n",
       "      <th>Schooling</th>\n",
       "    </tr>\n",
       "  </thead>\n",
       "  <tbody>\n",
       "    <tr>\n",
       "      <th>0</th>\n",
       "      <td>0</td>\n",
       "      <td>Afghanistan</td>\n",
       "      <td>2015</td>\n",
       "      <td>0</td>\n",
       "      <td>-0.444372</td>\n",
       "      <td>0.791452</td>\n",
       "      <td>0.268778</td>\n",
       "      <td>-1.139938</td>\n",
       "      <td>-0.335513</td>\n",
       "      <td>-0.110366</td>\n",
       "      <td>-0.964550</td>\n",
       "      <td>0.255316</td>\n",
       "      <td>-3.254219</td>\n",
       "      <td>0.911749</td>\n",
       "      <td>-0.723742</td>\n",
       "      <td>-0.32339</td>\n",
       "      <td>2.812651</td>\n",
       "      <td>2.772807</td>\n",
       "      <td>-0.725277</td>\n",
       "      <td>-0.579832</td>\n",
       "    </tr>\n",
       "    <tr>\n",
       "      <th>1</th>\n",
       "      <td>1</td>\n",
       "      <td>Afghanistan</td>\n",
       "      <td>2014</td>\n",
       "      <td>0</td>\n",
       "      <td>-0.980783</td>\n",
       "      <td>0.855926</td>\n",
       "      <td>0.285738</td>\n",
       "      <td>-1.139938</td>\n",
       "      <td>-0.334384</td>\n",
       "      <td>-0.168095</td>\n",
       "      <td>-0.989641</td>\n",
       "      <td>0.274014</td>\n",
       "      <td>-1.039197</td>\n",
       "      <td>0.919893</td>\n",
       "      <td>-0.850094</td>\n",
       "      <td>-0.32339</td>\n",
       "      <td>2.880918</td>\n",
       "      <td>2.817423</td>\n",
       "      <td>-0.739924</td>\n",
       "      <td>-0.610466</td>\n",
       "    </tr>\n",
       "    <tr>\n",
       "      <th>2</th>\n",
       "      <td>2</td>\n",
       "      <td>Afghanistan</td>\n",
       "      <td>2013</td>\n",
       "      <td>0</td>\n",
       "      <td>-0.980783</td>\n",
       "      <td>0.831748</td>\n",
       "      <td>0.302697</td>\n",
       "      <td>-1.139938</td>\n",
       "      <td>-0.334537</td>\n",
       "      <td>-0.173502</td>\n",
       "      <td>-1.014732</td>\n",
       "      <td>0.292712</td>\n",
       "      <td>-0.868811</td>\n",
       "      <td>0.899533</td>\n",
       "      <td>-0.765859</td>\n",
       "      <td>-0.32339</td>\n",
       "      <td>2.926429</td>\n",
       "      <td>2.862039</td>\n",
       "      <td>-0.769218</td>\n",
       "      <td>-0.641099</td>\n",
       "    </tr>\n",
       "    <tr>\n",
       "      <th>3</th>\n",
       "      <td>3</td>\n",
       "      <td>Afghanistan</td>\n",
       "      <td>2012</td>\n",
       "      <td>0</td>\n",
       "      <td>-1.022854</td>\n",
       "      <td>0.863985</td>\n",
       "      <td>0.328137</td>\n",
       "      <td>-1.139938</td>\n",
       "      <td>-0.332040</td>\n",
       "      <td>0.032040</td>\n",
       "      <td>-1.039823</td>\n",
       "      <td>0.317642</td>\n",
       "      <td>-0.655828</td>\n",
       "      <td>1.058344</td>\n",
       "      <td>-0.639507</td>\n",
       "      <td>-0.32339</td>\n",
       "      <td>2.971940</td>\n",
       "      <td>2.928963</td>\n",
       "      <td>-0.803395</td>\n",
       "      <td>-0.671733</td>\n",
       "    </tr>\n",
       "    <tr>\n",
       "      <th>4</th>\n",
       "      <td>4</td>\n",
       "      <td>Afghanistan</td>\n",
       "      <td>2011</td>\n",
       "      <td>0</td>\n",
       "      <td>-1.054408</td>\n",
       "      <td>0.888163</td>\n",
       "      <td>0.345097</td>\n",
       "      <td>-1.139938</td>\n",
       "      <td>-0.367800</td>\n",
       "      <td>0.051748</td>\n",
       "      <td>-1.059895</td>\n",
       "      <td>0.342573</td>\n",
       "      <td>-0.613232</td>\n",
       "      <td>0.793659</td>\n",
       "      <td>-0.597390</td>\n",
       "      <td>-0.32339</td>\n",
       "      <td>3.040207</td>\n",
       "      <td>2.973578</td>\n",
       "      <td>-0.847336</td>\n",
       "      <td>-0.763634</td>\n",
       "    </tr>\n",
       "  </tbody>\n",
       "</table>\n",
       "</div>"
      ],
      "text/plain": [
       "   Unnamed: 0      Country  Year  Status  Life expectancy   Adult Mortality  \\\n",
       "0           0  Afghanistan  2015       0         -0.444372         0.791452   \n",
       "1           1  Afghanistan  2014       0         -0.980783         0.855926   \n",
       "2           2  Afghanistan  2013       0         -0.980783         0.831748   \n",
       "3           3  Afghanistan  2012       0         -1.022854         0.863985   \n",
       "4           4  Afghanistan  2011       0         -1.054408         0.888163   \n",
       "\n",
       "   infant deaths   Alcohol  percentage expenditure  Measles       BMI   \\\n",
       "0       0.268778 -1.139938               -0.335513 -0.110366 -0.964550   \n",
       "1       0.285738 -1.139938               -0.334384 -0.168095 -0.989641   \n",
       "2       0.302697 -1.139938               -0.334537 -0.173502 -1.014732   \n",
       "3       0.328137 -1.139938               -0.332040  0.032040 -1.039823   \n",
       "4       0.345097 -1.139938               -0.367800  0.051748 -1.059895   \n",
       "\n",
       "   under-five deaths      Polio  Total expenditure  Diphtheria    HIV/AIDS  \\\n",
       "0            0.255316 -3.254219           0.911749    -0.723742   -0.32339   \n",
       "1            0.274014 -1.039197           0.919893    -0.850094   -0.32339   \n",
       "2            0.292712 -0.868811           0.899533    -0.765859   -0.32339   \n",
       "3            0.317642 -0.655828           1.058344    -0.639507   -0.32339   \n",
       "4            0.342573 -0.613232           0.793659    -0.597390   -0.32339   \n",
       "\n",
       "    thinness  1-19 years   thinness 5-9 years  \\\n",
       "0               2.812651             2.772807   \n",
       "1               2.880918             2.817423   \n",
       "2               2.926429             2.862039   \n",
       "3               2.971940             2.928963   \n",
       "4               3.040207             2.973578   \n",
       "\n",
       "   Income composition of resources  Schooling  \n",
       "0                        -0.725277  -0.579832  \n",
       "1                        -0.739924  -0.610466  \n",
       "2                        -0.769218  -0.641099  \n",
       "3                        -0.803395  -0.671733  \n",
       "4                        -0.847336  -0.763634  "
      ]
     },
     "execution_count": 13,
     "metadata": {},
     "output_type": "execute_result"
    }
   ],
   "source": [
    "data = pd.read_csv(\"/Users/lucasvilsen/Desktop/DTU/MachineLearning&DataMining/StandardizedDataFrameWithNansFilled.csv\")\n",
    "data[\"Status\"] = [1 if stat == \"Developed\" else 0 for stat in data[\"Status\"]]\n",
    "data.head()"
   ]
  },
  {
   "cell_type": "code",
   "execution_count": 21,
   "metadata": {},
   "outputs": [
    {
     "data": {
      "text/plain": [
       "Index(['Unnamed: 0', 'Country', 'Year', 'Status', 'Life expectancy ',\n",
       "       'Adult Mortality', 'infant deaths', 'Alcohol', 'percentage expenditure',\n",
       "       'Measles ', ' BMI ', 'under-five deaths ', 'Polio', 'Total expenditure',\n",
       "       'Diphtheria ', ' HIV/AIDS', ' thinness  1-19 years',\n",
       "       ' thinness 5-9 years', 'Income composition of resources', 'Schooling'],\n",
       "      dtype='object')"
      ]
     },
     "execution_count": 21,
     "metadata": {},
     "output_type": "execute_result"
    }
   ],
   "source": [
    "data.columns"
   ]
  },
  {
   "cell_type": "code",
   "execution_count": 69,
   "metadata": {},
   "outputs": [
    {
     "data": {
      "text/plain": [
       "(torch.Size([2938, 16]), torch.Size([2938]))"
      ]
     },
     "execution_count": 69,
     "metadata": {},
     "output_type": "execute_result"
    }
   ],
   "source": [
    "columns = list(data.columns)\n",
    "x_columns = [data[column].to_list() for column in [columns[3]] + columns[5:]]\n",
    "\n",
    "xs = torch.tensor([[x[index] for x in x_columns] for index in range(len(x_columns[0]))])\n",
    "ys = torch.tensor(data[\"Life expectancy \"].to_list())\n",
    "xs.size(), ys.size()"
   ]
  },
  {
   "cell_type": "code",
   "execution_count": 71,
   "metadata": {},
   "outputs": [],
   "source": [
    "# So the following is true:\n",
    "input_size = 16\n",
    "output_size = 1\n",
    "hs_to_test = [1, 2, 5, 10, 20, 30, 40, 50, 75, 100, 200]"
   ]
  },
  {
   "cell_type": "markdown",
   "metadata": {},
   "source": [
    "Make NN structure"
   ]
  },
  {
   "cell_type": "code",
   "execution_count": 196,
   "metadata": {},
   "outputs": [],
   "source": [
    "class SimpleNN(nn.Module):\n",
    "    def __init__(self, input_size, h, output_size) -> None:\n",
    "        super().__init__()\n",
    "        self.layers = nn.Sequential(\n",
    "            nn.Linear(input_size, h),\n",
    "            nn.Tanh(),  \n",
    "            nn.Linear(h, output_size),\n",
    "        )\n",
    "\n",
    "    def forward(self, x):\n",
    "        return self.layers.forward(x)"
   ]
  },
  {
   "cell_type": "markdown",
   "metadata": {},
   "source": [
    "Splitting test and train data"
   ]
  },
  {
   "cell_type": "code",
   "execution_count": 197,
   "metadata": {},
   "outputs": [],
   "source": [
    "x_train, x_test, y_train, y_test = train_test_split(xs, ys, test_size=0.1)"
   ]
  },
  {
   "cell_type": "code",
   "execution_count": 198,
   "metadata": {},
   "outputs": [
    {
     "data": {
      "text/plain": [
       "(2644, 294)"
      ]
     },
     "execution_count": 198,
     "metadata": {},
     "output_type": "execute_result"
    }
   ],
   "source": [
    "len(x_train), len(x_test)"
   ]
  },
  {
   "cell_type": "markdown",
   "metadata": {},
   "source": [
    "We train each NN for 10 epochs of the whole dataset to first find the best h"
   ]
  },
  {
   "cell_type": "code",
   "execution_count": 202,
   "metadata": {},
   "outputs": [],
   "source": [
    "learning_rate = 2e-4\n",
    "epochs = 500\n",
    "batch_size = 32\n",
    "\n",
    "h = 200\n",
    "\n",
    "model = SimpleNN(input_size, h, output_size)\n",
    "criterion = nn.MSELoss()\n",
    "optimizer = optim.Adam(model.parameters(), lr=learning_rate)\n",
    "\n",
    "train_dataset = TensorDataset(x_train, y_train)\n",
    "train_loader = DataLoader(train_dataset, batch_size=batch_size, shuffle=True)"
   ]
  },
  {
   "cell_type": "code",
   "execution_count": 203,
   "metadata": {},
   "outputs": [],
   "source": [
    "import matplotlib.pyplot as plt\n",
    "\n",
    "def train_model(model, criterion, optimizer, train_loader):\n",
    "    losses = []\n",
    "    eval_loss = []\n",
    "    model.train()\n",
    "    for epoch in tqdm(range(epochs)):\n",
    "        total_loss = 0.0\n",
    "        for i, (inputs, labels) in enumerate(train_loader):\n",
    "            optimizer.zero_grad() \n",
    "            outputs = model(inputs)\n",
    "            outputs = torch.cat(list(outputs), dim=0)\n",
    "            loss = criterion(outputs, labels) \n",
    "            loss.backward()\n",
    "            optimizer.step()\n",
    "            losses.append(abs(loss.item()))\n",
    "        eval_loss.append(eval_model(model))\n",
    "    plt.plot(range(len(losses)), losses, label = \"loss\")\n",
    "    plt.plot(range(0, len(eval_loss) * len(train_loader), len(train_loader)), eval_loss, label = \"eval loss\")\n",
    "    plt.show()\n",
    "\n",
    "def eval_model(model):\n",
    "    distances = []\n",
    "\n",
    "    model.eval()\n",
    "    with torch.no_grad():\n",
    "        for inputs, labels in list(zip(x_test, y_test)):\n",
    "            outputs = model(inputs)\n",
    "            distances.append(abs(outputs - labels))\n",
    "\n",
    "    return sum(distances)/len(distances)"
   ]
  },
  {
   "cell_type": "code",
   "execution_count": 204,
   "metadata": {},
   "outputs": [
    {
     "name": "stderr",
     "output_type": "stream",
     "text": [
      "100%|██████████| 500/500 [00:37<00:00, 13.35it/s]\n"
     ]
    },
    {
     "data": {
      "image/png": "[encoded data removed]",
      "text/plain": [
       "<Figure size 640x480 with 1 Axes>"
      ]
     },
     "metadata": {},
     "output_type": "display_data"
    },
    {
     "data": {
      "text/plain": [
       "tensor([0.1677])"
      ]
     },
     "execution_count": 204,
     "metadata": {},
     "output_type": "execute_result"
    }
   ],
   "source": [
    "train_model(model, criterion, optimizer, train_loader)\n",
    "eval_model(model)"
   ]
  },
  {
   "cell_type": "markdown",
   "metadata": {},
   "source": [
    "### Performance logging"
   ]
  },
  {
   "cell_type": "code",
   "execution_count": null,
   "metadata": {},
   "outputs": [],
   "source": []
  },
  {
   "cell_type": "markdown",
   "metadata": {},
   "source": [
    "We now do K-fold to find the best performing NN model"
   ]
  },
  {
   "cell_type": "code",
   "execution_count": null,
   "metadata": {},
   "outputs": [],
   "source": []
  }
 ],
 "metadata": {
  "kernelspec": {
   "display_name": "Python 3.11.2 64-bit",
   "language": "python",
   "name": "python3"
  },
  "language_info": {
   "codemirror_mode": {
    "name": "ipython",
    "version": 3
   },
   "file_extension": ".py",
   "mimetype": "text/x-python",
   "name": "python",
   "nbconvert_exporter": "python",
   "pygments_lexer": "ipython3",
   "version": "3.11.2"
  },
  "orig_nbformat": 4,
  "vscode": {
   "interpreter": {
    "hash": "b0fa6594d8f4cbf19f97940f81e996739fb7646882a419484c72d19e05852a7e"
   }
  }
 },
 "nbformat": 4,
 "nbformat_minor": 2
}
