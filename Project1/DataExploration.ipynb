{
 "cells": [
  {
   "cell_type": "code",
   "execution_count": 17,
   "metadata": {},
   "outputs": [],
   "source": [
    "import pandas as pd\n",
    "import numpy as np\n",
    "import awoc\n",
    "from sklearn import preprocessing"
   ]
  },
  {
   "cell_type": "code",
   "execution_count": 18,
   "metadata": {},
   "outputs": [],
   "source": [
    "df = pd.read_csv(\"../LifeExpectancyData.csv\")"
   ]
  },
  {
   "cell_type": "code",
   "execution_count": 19,
   "metadata": {},
   "outputs": [
    {
     "data": {
      "text/plain": [
       "Index(['Country', 'Year', 'Status', 'Life expectancy ', 'Adult Mortality',\n",
       "       'infant deaths', 'Alcohol', 'percentage expenditure', 'Hepatitis B',\n",
       "       'Measles ', ' BMI ', 'under-five deaths ', 'Polio', 'Total expenditure',\n",
       "       'Diphtheria ', ' HIV/AIDS', 'GDP', 'Population',\n",
       "       ' thinness  1-19 years', ' thinness 5-9 years',\n",
       "       'Income composition of resources', 'Schooling'],\n",
       "      dtype='object')"
      ]
     },
     "execution_count": 19,
     "metadata": {},
     "output_type": "execute_result"
    }
   ],
   "source": [
    "df.columns"
   ]
  },
  {
   "cell_type": "code",
   "execution_count": 20,
   "metadata": {},
   "outputs": [],
   "source": [
    "columns_to_standardize = list(df.columns)[3:]"
   ]
  },
  {
   "cell_type": "markdown",
   "metadata": {},
   "source": [
    "Here we do normalization.\n",
    "\n",
    "We could maybe also do min-max normalization to get values between 0 and 1"
   ]
  },
  {
   "cell_type": "code",
   "execution_count": 21,
   "metadata": {},
   "outputs": [],
   "source": [
    "for column in columns_to_standardize:\n",
    "    mean = df[column].mean()\n",
    "    std_dev = df[column].std()\n",
    "    df[column] = (df[column] - mean) / std_dev"
   ]
  },
  {
   "cell_type": "code",
   "execution_count": 22,
   "metadata": {},
   "outputs": [
    {
     "data": {
      "text/html": [
       "<div>\n",
       "<style scoped>\n",
       "    .dataframe tbody tr th:only-of-type {\n",
       "        vertical-align: middle;\n",
       "    }\n",
       "\n",
       "    .dataframe tbody tr th {\n",
       "        vertical-align: top;\n",
       "    }\n",
       "\n",
       "    .dataframe thead th {\n",
       "        text-align: right;\n",
       "    }\n",
       "</style>\n",
       "<table border=\"1\" class=\"dataframe\">\n",
       "  <thead>\n",
       "    <tr style=\"text-align: right;\">\n",
       "      <th></th>\n",
       "      <th>Country</th>\n",
       "      <th>Year</th>\n",
       "      <th>Status</th>\n",
       "      <th>Life expectancy</th>\n",
       "      <th>Adult Mortality</th>\n",
       "      <th>infant deaths</th>\n",
       "      <th>Alcohol</th>\n",
       "      <th>percentage expenditure</th>\n",
       "      <th>Hepatitis B</th>\n",
       "      <th>Measles</th>\n",
       "      <th>...</th>\n",
       "      <th>Polio</th>\n",
       "      <th>Total expenditure</th>\n",
       "      <th>Diphtheria</th>\n",
       "      <th>HIV/AIDS</th>\n",
       "      <th>GDP</th>\n",
       "      <th>Population</th>\n",
       "      <th>thinness  1-19 years</th>\n",
       "      <th>thinness 5-9 years</th>\n",
       "      <th>Income composition of resources</th>\n",
       "      <th>Schooling</th>\n",
       "    </tr>\n",
       "  </thead>\n",
       "  <tbody>\n",
       "    <tr>\n",
       "      <th>0</th>\n",
       "      <td>Afghanistan</td>\n",
       "      <td>2015</td>\n",
       "      <td>Developing</td>\n",
       "      <td>-0.443615</td>\n",
       "      <td>0.790103</td>\n",
       "      <td>0.268778</td>\n",
       "      <td>-1.133365</td>\n",
       "      <td>-0.335513</td>\n",
       "      <td>-0.635838</td>\n",
       "      <td>-0.110366</td>\n",
       "      <td>...</td>\n",
       "      <td>-3.267459</td>\n",
       "      <td>0.889322</td>\n",
       "      <td>-0.730453</td>\n",
       "      <td>-0.32339</td>\n",
       "      <td>-0.483449</td>\n",
       "      <td>0.343917</td>\n",
       "      <td>2.796324</td>\n",
       "      <td>2.756711</td>\n",
       "      <td>-0.704355</td>\n",
       "      <td>-0.563512</td>\n",
       "    </tr>\n",
       "    <tr>\n",
       "      <th>1</th>\n",
       "      <td>Afghanistan</td>\n",
       "      <td>2014</td>\n",
       "      <td>Developing</td>\n",
       "      <td>-0.979112</td>\n",
       "      <td>0.854468</td>\n",
       "      <td>0.285738</td>\n",
       "      <td>-1.133365</td>\n",
       "      <td>-0.334384</td>\n",
       "      <td>-0.755503</td>\n",
       "      <td>-0.168095</td>\n",
       "      <td>...</td>\n",
       "      <td>-1.047897</td>\n",
       "      <td>0.897327</td>\n",
       "      <td>-0.856945</td>\n",
       "      <td>-0.32339</td>\n",
       "      <td>-0.481456</td>\n",
       "      <td>-0.203661</td>\n",
       "      <td>2.864194</td>\n",
       "      <td>2.801068</td>\n",
       "      <td>-0.718580</td>\n",
       "      <td>-0.593284</td>\n",
       "    </tr>\n",
       "    <tr>\n",
       "      <th>2</th>\n",
       "      <td>Afghanistan</td>\n",
       "      <td>2013</td>\n",
       "      <td>Developing</td>\n",
       "      <td>-0.979112</td>\n",
       "      <td>0.830331</td>\n",
       "      <td>0.302697</td>\n",
       "      <td>-1.133365</td>\n",
       "      <td>-0.334537</td>\n",
       "      <td>-0.675726</td>\n",
       "      <td>-0.173502</td>\n",
       "      <td>...</td>\n",
       "      <td>-0.877162</td>\n",
       "      <td>0.877314</td>\n",
       "      <td>-0.772617</td>\n",
       "      <td>-0.32339</td>\n",
       "      <td>-0.480121</td>\n",
       "      <td>0.311058</td>\n",
       "      <td>2.909441</td>\n",
       "      <td>2.845424</td>\n",
       "      <td>-0.747029</td>\n",
       "      <td>-0.623055</td>\n",
       "    </tr>\n",
       "    <tr>\n",
       "      <th>3</th>\n",
       "      <td>Afghanistan</td>\n",
       "      <td>2012</td>\n",
       "      <td>Developing</td>\n",
       "      <td>-1.021112</td>\n",
       "      <td>0.862513</td>\n",
       "      <td>0.328137</td>\n",
       "      <td>-1.133365</td>\n",
       "      <td>-0.332040</td>\n",
       "      <td>-0.556061</td>\n",
       "      <td>0.032040</td>\n",
       "      <td>...</td>\n",
       "      <td>-0.663742</td>\n",
       "      <td>1.033419</td>\n",
       "      <td>-0.646125</td>\n",
       "      <td>-0.32339</td>\n",
       "      <td>-0.477443</td>\n",
       "      <td>-0.148436</td>\n",
       "      <td>2.954688</td>\n",
       "      <td>2.911960</td>\n",
       "      <td>-0.780219</td>\n",
       "      <td>-0.652827</td>\n",
       "    </tr>\n",
       "    <tr>\n",
       "      <th>4</th>\n",
       "      <td>Afghanistan</td>\n",
       "      <td>2011</td>\n",
       "      <td>Developing</td>\n",
       "      <td>-1.052611</td>\n",
       "      <td>0.886650</td>\n",
       "      <td>0.345097</td>\n",
       "      <td>-1.133365</td>\n",
       "      <td>-0.367800</td>\n",
       "      <td>-0.516173</td>\n",
       "      <td>0.051748</td>\n",
       "      <td>...</td>\n",
       "      <td>-0.621059</td>\n",
       "      <td>0.773244</td>\n",
       "      <td>-0.603961</td>\n",
       "      <td>-0.32339</td>\n",
       "      <td>-0.519939</td>\n",
       "      <td>-0.160210</td>\n",
       "      <td>3.022558</td>\n",
       "      <td>2.956317</td>\n",
       "      <td>-0.822893</td>\n",
       "      <td>-0.742141</td>\n",
       "    </tr>\n",
       "  </tbody>\n",
       "</table>\n",
       "<p>5 rows × 22 columns</p>\n",
       "</div>"
      ],
      "text/plain": [
       "       Country  Year      Status  Life expectancy   Adult Mortality  \\\n",
       "0  Afghanistan  2015  Developing         -0.443615         0.790103   \n",
       "1  Afghanistan  2014  Developing         -0.979112         0.854468   \n",
       "2  Afghanistan  2013  Developing         -0.979112         0.830331   \n",
       "3  Afghanistan  2012  Developing         -1.021112         0.862513   \n",
       "4  Afghanistan  2011  Developing         -1.052611         0.886650   \n",
       "\n",
       "   infant deaths   Alcohol  percentage expenditure  Hepatitis B  Measles   \\\n",
       "0       0.268778 -1.133365               -0.335513    -0.635838 -0.110366   \n",
       "1       0.285738 -1.133365               -0.334384    -0.755503 -0.168095   \n",
       "2       0.302697 -1.133365               -0.334537    -0.675726 -0.173502   \n",
       "3       0.328137 -1.133365               -0.332040    -0.556061  0.032040   \n",
       "4       0.345097 -1.133365               -0.367800    -0.516173  0.051748   \n",
       "\n",
       "   ...     Polio  Total expenditure  Diphtheria    HIV/AIDS       GDP  \\\n",
       "0  ... -3.267459           0.889322    -0.730453   -0.32339 -0.483449   \n",
       "1  ... -1.047897           0.897327    -0.856945   -0.32339 -0.481456   \n",
       "2  ... -0.877162           0.877314    -0.772617   -0.32339 -0.480121   \n",
       "3  ... -0.663742           1.033419    -0.646125   -0.32339 -0.477443   \n",
       "4  ... -0.621059           0.773244    -0.603961   -0.32339 -0.519939   \n",
       "\n",
       "   Population   thinness  1-19 years   thinness 5-9 years  \\\n",
       "0    0.343917               2.796324             2.756711   \n",
       "1   -0.203661               2.864194             2.801068   \n",
       "2    0.311058               2.909441             2.845424   \n",
       "3   -0.148436               2.954688             2.911960   \n",
       "4   -0.160210               3.022558             2.956317   \n",
       "\n",
       "   Income composition of resources  Schooling  \n",
       "0                        -0.704355  -0.563512  \n",
       "1                        -0.718580  -0.593284  \n",
       "2                        -0.747029  -0.623055  \n",
       "3                        -0.780219  -0.652827  \n",
       "4                        -0.822893  -0.742141  \n",
       "\n",
       "[5 rows x 22 columns]"
      ]
     },
     "execution_count": 22,
     "metadata": {},
     "output_type": "execute_result"
    }
   ],
   "source": [
    "df.head(5)"
   ]
  },
  {
   "cell_type": "code",
   "execution_count": 23,
   "metadata": {},
   "outputs": [
    {
     "data": {
      "text/html": [
       "<div>\n",
       "<style scoped>\n",
       "    .dataframe tbody tr th:only-of-type {\n",
       "        vertical-align: middle;\n",
       "    }\n",
       "\n",
       "    .dataframe tbody tr th {\n",
       "        vertical-align: top;\n",
       "    }\n",
       "\n",
       "    .dataframe thead th {\n",
       "        text-align: right;\n",
       "    }\n",
       "</style>\n",
       "<table border=\"1\" class=\"dataframe\">\n",
       "  <thead>\n",
       "    <tr style=\"text-align: right;\">\n",
       "      <th></th>\n",
       "      <th>Country</th>\n",
       "      <th>Year</th>\n",
       "      <th>Status</th>\n",
       "      <th>Life expectancy</th>\n",
       "      <th>Adult Mortality</th>\n",
       "      <th>infant deaths</th>\n",
       "      <th>Alcohol</th>\n",
       "      <th>percentage expenditure</th>\n",
       "      <th>Hepatitis B</th>\n",
       "      <th>Measles</th>\n",
       "      <th>...</th>\n",
       "      <th>Polio</th>\n",
       "      <th>Total expenditure</th>\n",
       "      <th>Diphtheria</th>\n",
       "      <th>HIV/AIDS</th>\n",
       "      <th>GDP</th>\n",
       "      <th>Population</th>\n",
       "      <th>thinness  1-19 years</th>\n",
       "      <th>thinness 5-9 years</th>\n",
       "      <th>Income composition of resources</th>\n",
       "      <th>Schooling</th>\n",
       "    </tr>\n",
       "  </thead>\n",
       "  <tbody>\n",
       "    <tr>\n",
       "      <th>32</th>\n",
       "      <td>Algeria</td>\n",
       "      <td>2015</td>\n",
       "      <td>Developing</td>\n",
       "      <td>0.669378</td>\n",
       "      <td>-1.173015</td>\n",
       "      <td>-0.078896</td>\n",
       "      <td>NaN</td>\n",
       "      <td>-0.371370</td>\n",
       "      <td>0.560811</td>\n",
       "      <td>-0.205506</td>\n",
       "      <td>...</td>\n",
       "      <td>0.531406</td>\n",
       "      <td>NaN</td>\n",
       "      <td>0.534467</td>\n",
       "      <td>-0.32339</td>\n",
       "      <td>-0.234783</td>\n",
       "      <td>0.444472</td>\n",
       "      <td>0.262499</td>\n",
       "      <td>0.206189</td>\n",
       "      <td>0.547402</td>\n",
       "      <td>0.716661</td>\n",
       "    </tr>\n",
       "    <tr>\n",
       "      <th>44</th>\n",
       "      <td>Algeria</td>\n",
       "      <td>2003</td>\n",
       "      <td>Developing</td>\n",
       "      <td>0.259881</td>\n",
       "      <td>-0.151228</td>\n",
       "      <td>-0.087376</td>\n",
       "      <td>-1.051932</td>\n",
       "      <td>-0.358784</td>\n",
       "      <td>NaN</td>\n",
       "      <td>1.129685</td>\n",
       "      <td>...</td>\n",
       "      <td>0.189935</td>\n",
       "      <td>-0.935905</td>\n",
       "      <td>0.197155</td>\n",
       "      <td>-0.32339</td>\n",
       "      <td>-0.503766</td>\n",
       "      <td>-0.155868</td>\n",
       "      <td>0.330369</td>\n",
       "      <td>0.272725</td>\n",
       "      <td>0.168081</td>\n",
       "      <td>-0.146712</td>\n",
       "    </tr>\n",
       "    <tr>\n",
       "      <th>45</th>\n",
       "      <td>Algeria</td>\n",
       "      <td>2002</td>\n",
       "      <td>Developing</td>\n",
       "      <td>0.249381</td>\n",
       "      <td>-0.159274</td>\n",
       "      <td>-0.087376</td>\n",
       "      <td>-1.046996</td>\n",
       "      <td>-0.296662</td>\n",
       "      <td>NaN</td>\n",
       "      <td>0.300194</td>\n",
       "      <td>...</td>\n",
       "      <td>0.147251</td>\n",
       "      <td>-0.883870</td>\n",
       "      <td>0.154991</td>\n",
       "      <td>-0.32339</td>\n",
       "      <td>-0.400053</td>\n",
       "      <td>-0.156589</td>\n",
       "      <td>0.330369</td>\n",
       "      <td>0.294903</td>\n",
       "      <td>0.120666</td>\n",
       "      <td>-0.265798</td>\n",
       "    </tr>\n",
       "    <tr>\n",
       "      <th>46</th>\n",
       "      <td>Algeria</td>\n",
       "      <td>2001</td>\n",
       "      <td>Developing</td>\n",
       "      <td>0.228381</td>\n",
       "      <td>-0.159274</td>\n",
       "      <td>-0.087376</td>\n",
       "      <td>-1.079076</td>\n",
       "      <td>-0.296927</td>\n",
       "      <td>NaN</td>\n",
       "      <td>0.023232</td>\n",
       "      <td>...</td>\n",
       "      <td>0.275303</td>\n",
       "      <td>-0.839840</td>\n",
       "      <td>0.281483</td>\n",
       "      <td>-0.32339</td>\n",
       "      <td>-0.402960</td>\n",
       "      <td>0.308771</td>\n",
       "      <td>0.352993</td>\n",
       "      <td>0.317082</td>\n",
       "      <td>0.077993</td>\n",
       "      <td>-0.325341</td>\n",
       "    </tr>\n",
       "    <tr>\n",
       "      <th>47</th>\n",
       "      <td>Algeria</td>\n",
       "      <td>2000</td>\n",
       "      <td>Developing</td>\n",
       "      <td>0.217881</td>\n",
       "      <td>-0.159274</td>\n",
       "      <td>-0.078896</td>\n",
       "      <td>-1.074141</td>\n",
       "      <td>-0.293672</td>\n",
       "      <td>NaN</td>\n",
       "      <td>-0.211000</td>\n",
       "      <td>...</td>\n",
       "      <td>0.147251</td>\n",
       "      <td>-0.979934</td>\n",
       "      <td>0.154991</td>\n",
       "      <td>-0.32339</td>\n",
       "      <td>-0.401255</td>\n",
       "      <td>-0.157920</td>\n",
       "      <td>0.375616</td>\n",
       "      <td>0.339260</td>\n",
       "      <td>0.040061</td>\n",
       "      <td>-0.384884</td>\n",
       "    </tr>\n",
       "  </tbody>\n",
       "</table>\n",
       "<p>5 rows × 22 columns</p>\n",
       "</div>"
      ],
      "text/plain": [
       "    Country  Year      Status  Life expectancy   Adult Mortality  \\\n",
       "32  Algeria  2015  Developing          0.669378        -1.173015   \n",
       "44  Algeria  2003  Developing          0.259881        -0.151228   \n",
       "45  Algeria  2002  Developing          0.249381        -0.159274   \n",
       "46  Algeria  2001  Developing          0.228381        -0.159274   \n",
       "47  Algeria  2000  Developing          0.217881        -0.159274   \n",
       "\n",
       "    infant deaths   Alcohol  percentage expenditure  Hepatitis B  Measles   \\\n",
       "32      -0.078896       NaN               -0.371370     0.560811 -0.205506   \n",
       "44      -0.087376 -1.051932               -0.358784          NaN  1.129685   \n",
       "45      -0.087376 -1.046996               -0.296662          NaN  0.300194   \n",
       "46      -0.087376 -1.079076               -0.296927          NaN  0.023232   \n",
       "47      -0.078896 -1.074141               -0.293672          NaN -0.211000   \n",
       "\n",
       "    ...     Polio  Total expenditure  Diphtheria    HIV/AIDS       GDP  \\\n",
       "32  ...  0.531406                NaN     0.534467   -0.32339 -0.234783   \n",
       "44  ...  0.189935          -0.935905     0.197155   -0.32339 -0.503766   \n",
       "45  ...  0.147251          -0.883870     0.154991   -0.32339 -0.400053   \n",
       "46  ...  0.275303          -0.839840     0.281483   -0.32339 -0.402960   \n",
       "47  ...  0.147251          -0.979934     0.154991   -0.32339 -0.401255   \n",
       "\n",
       "    Population   thinness  1-19 years   thinness 5-9 years  \\\n",
       "32    0.444472               0.262499             0.206189   \n",
       "44   -0.155868               0.330369             0.272725   \n",
       "45   -0.156589               0.330369             0.294903   \n",
       "46    0.308771               0.352993             0.317082   \n",
       "47   -0.157920               0.375616             0.339260   \n",
       "\n",
       "    Income composition of resources  Schooling  \n",
       "32                         0.547402   0.716661  \n",
       "44                         0.168081  -0.146712  \n",
       "45                         0.120666  -0.265798  \n",
       "46                         0.077993  -0.325341  \n",
       "47                         0.040061  -0.384884  \n",
       "\n",
       "[5 rows x 22 columns]"
      ]
     },
     "execution_count": 23,
     "metadata": {},
     "output_type": "execute_result"
    }
   ],
   "source": [
    "df[df.isna().any(axis=1)].head(5)"
   ]
  },
  {
   "cell_type": "markdown",
   "metadata": {},
   "source": [
    "Remove all nans and save csv"
   ]
  },
  {
   "cell_type": "code",
   "execution_count": 12,
   "metadata": {},
   "outputs": [],
   "source": [
    "# df = df.dropna()\n",
    "# df.to_csv(\"normalizedData-RemovedNanRows.csv\")\n",
    "# df"
   ]
  },
  {
   "cell_type": "markdown",
   "metadata": {},
   "source": [
    "This removes about 50% of about data - we need to be more careful about removing these nans..."
   ]
  },
  {
   "cell_type": "markdown",
   "metadata": {},
   "source": [
    "Fill in Nan values based on this approach: \n",
    "\n",
    "If there is other values from the same country, we take the mean of those values and fill in empty data. (if there is none, we use mean) "
   ]
  },
  {
   "cell_type": "markdown",
   "metadata": {},
   "source": [
    "If over 200 nans in one column, we remove as they have way too many nans"
   ]
  },
  {
   "cell_type": "code",
   "execution_count": 24,
   "metadata": {},
   "outputs": [
    {
     "data": {
      "text/plain": [
       "Index(['Country', 'Year', 'Status', 'Life expectancy ', 'Adult Mortality',\n",
       "       'infant deaths', 'Alcohol', 'percentage expenditure', 'Hepatitis B',\n",
       "       'Measles ', ' BMI ', 'under-five deaths ', 'Polio', 'Total expenditure',\n",
       "       'Diphtheria ', ' HIV/AIDS', 'GDP', 'Population',\n",
       "       ' thinness  1-19 years', ' thinness 5-9 years',\n",
       "       'Income composition of resources', 'Schooling'],\n",
       "      dtype='object')"
      ]
     },
     "execution_count": 24,
     "metadata": {},
     "output_type": "execute_result"
    }
   ],
   "source": [
    "df.columns"
   ]
  },
  {
   "cell_type": "code",
   "execution_count": 25,
   "metadata": {},
   "outputs": [],
   "source": [
    "df.drop([\"Hepatitis B\", \"GDP\", \"Population\"], axis=\"columns\", inplace=True)"
   ]
  },
  {
   "cell_type": "code",
   "execution_count": 26,
   "metadata": {},
   "outputs": [],
   "source": [
    "columns_to_correct_nans = list(df.columns)[3:]"
   ]
  },
  {
   "cell_type": "code",
   "execution_count": 27,
   "metadata": {},
   "outputs": [
    {
     "name": "stdout",
     "output_type": "stream",
     "text": [
      "Number of nans before this procedure:  910\n",
      "Filled with mean from rows with same country:  409\n",
      "Filled with mean from all rows:  501\n"
     ]
    },
    {
     "name": "stderr",
     "output_type": "stream",
     "text": [
      "/var/folders/pl/7f1cr2657p3bnpdt3bnm_9w00000gn/T/ipykernel_19124/3355308998.py:14: FutureWarning: The default value of numeric_only in DataFrame.mean is deprecated. In a future version, it will default to False. In addition, specifying 'numeric_only=None' is deprecated. Select only valid columns or specify the value of numeric_only to silence this warning.\n",
      "  df_without_nans.fillna(df_without_nans.mean(), inplace=True)\n"
     ]
    }
   ],
   "source": [
    "start_nans = df.isna().sum().sum()\n",
    "df_without_nans = df.copy()\n",
    "print(\"Number of nans before this procedure: \", start_nans)\n",
    "for index, row in df_without_nans.iterrows():\n",
    "    for column in columns_to_correct_nans:\n",
    "        if pd.isna(row[column]):\n",
    "            current_country = row['Country']\n",
    "            same_country_rows = df_without_nans[df_without_nans['Country'] == current_country]\n",
    "            mean_value = same_country_rows[column].mean()\n",
    "            df_without_nans.at[index, column] = mean_value\n",
    "\n",
    "print(\"Filled with mean from rows with same country: \", start_nans - df_without_nans.isna().sum().sum())\n",
    "start_nans = df_without_nans.isna().sum().sum()\n",
    "df_without_nans.fillna(df_without_nans.mean(), inplace=True)\n",
    "print(\"Filled with mean from all rows: \", start_nans - df_without_nans.isna().sum().sum())"
   ]
  },
  {
   "cell_type": "code",
   "execution_count": 28,
   "metadata": {},
   "outputs": [
    {
     "data": {
      "text/plain": [
       "((2938, 19), 0)"
      ]
     },
     "execution_count": 28,
     "metadata": {},
     "output_type": "execute_result"
    }
   ],
   "source": [
    "df_without_nans.shape, df_without_nans.isna().sum().sum()"
   ]
  },
  {
   "cell_type": "code",
   "execution_count": 29,
   "metadata": {},
   "outputs": [],
   "source": [
    "df_without_nans.to_csv(\"StandardizedDataFrameWithNansFilled.csv\")"
   ]
  },
  {
   "cell_type": "code",
   "execution_count": null,
   "metadata": {},
   "outputs": [],
   "source": []
  }
 ],
 "metadata": {
  "kernelspec": {
   "display_name": "Python 3.11.2 64-bit",
   "language": "python",
   "name": "python3"
  },
  "language_info": {
   "codemirror_mode": {
    "name": "ipython",
    "version": 3
   },
   "file_extension": ".py",
   "mimetype": "text/x-python",
   "name": "python",
   "nbconvert_exporter": "python",
   "pygments_lexer": "ipython3",
   "version": "3.11.2"
  },
  "orig_nbformat": 4,
  "vscode": {
   "interpreter": {
    "hash": "b0fa6594d8f4cbf19f97940f81e996739fb7646882a419484c72d19e05852a7e"
   }
  }
 },
 "nbformat": 4,
 "nbformat_minor": 2
}
